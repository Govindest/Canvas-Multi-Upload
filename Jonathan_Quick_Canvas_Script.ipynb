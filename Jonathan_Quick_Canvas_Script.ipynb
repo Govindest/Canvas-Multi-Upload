{
  "nbformat": 4,
  "nbformat_minor": 0,
  "metadata": {
    "colab": {
      "provenance": [],
      "authorship_tag": "ABX9TyMq0YtDfuKJSK1Usvy+ayJt",
      "include_colab_link": true
    },
    "kernelspec": {
      "name": "python3",
      "display_name": "Python 3"
    },
    "language_info": {
      "name": "python"
    }
  },
  "cells": [
    {
      "cell_type": "markdown",
      "metadata": {
        "id": "view-in-github",
        "colab_type": "text"
      },
      "source": [
        "<a href=\"https://colab.research.google.com/github/Govindest/Canvas-Multi-Upload/blob/main/Jonathan_Quick_Canvas_Script.ipynb\" target=\"_parent\"><img src=\"https://colab.research.google.com/assets/colab-badge.svg\" alt=\"Open In Colab\"/></a>"
      ]
    },
    {
      "cell_type": "markdown",
      "source": [
        "\n",
        "6936~lmiEmoqxdwHzIgXxZgS1boDoCk4ZDJhchviPlzQeVlcKvtKacPSp8gIw5uT7sHpa"
      ],
      "metadata": {
        "id": "RRW4pCQd_5ei"
      }
    },
    {
      "cell_type": "code",
      "source": [
        "pip install canvasapi\n"
      ],
      "metadata": {
        "colab": {
          "base_uri": "https://localhost:8080/"
        },
        "id": "H_XCU_C8zdNR",
        "outputId": "d80f72e7-4f39-4c37-a178-db1e4e6467c4"
      },
      "execution_count": null,
      "outputs": [
        {
          "output_type": "stream",
          "name": "stdout",
          "text": [
            "Collecting canvasapi\n",
            "  Downloading canvasapi-3.2.0.tar.gz (87 kB)\n",
            "\u001b[2K     \u001b[90m━━━━━━━━━━━━━━━━━━━━━━━━━━━━━━━━━━━━━━━━\u001b[0m \u001b[32m87.0/87.0 kB\u001b[0m \u001b[31m2.1 MB/s\u001b[0m eta \u001b[36m0:00:00\u001b[0m\n",
            "\u001b[?25h  Preparing metadata (setup.py) ... \u001b[?25l\u001b[?25hdone\n",
            "Collecting arrow (from canvasapi)\n",
            "  Downloading arrow-1.2.3-py3-none-any.whl (66 kB)\n",
            "\u001b[2K     \u001b[90m━━━━━━━━━━━━━━━━━━━━━━━━━━━━━━━━━━━━━━━━\u001b[0m \u001b[32m66.4/66.4 kB\u001b[0m \u001b[31m6.7 MB/s\u001b[0m eta \u001b[36m0:00:00\u001b[0m\n",
            "\u001b[?25hRequirement already satisfied: pytz in /usr/local/lib/python3.10/dist-packages (from canvasapi) (2023.3.post1)\n",
            "Requirement already satisfied: requests in /usr/local/lib/python3.10/dist-packages (from canvasapi) (2.31.0)\n",
            "Requirement already satisfied: python-dateutil>=2.7.0 in /usr/local/lib/python3.10/dist-packages (from arrow->canvasapi) (2.8.2)\n",
            "Requirement already satisfied: charset-normalizer<4,>=2 in /usr/local/lib/python3.10/dist-packages (from requests->canvasapi) (3.2.0)\n",
            "Requirement already satisfied: idna<4,>=2.5 in /usr/local/lib/python3.10/dist-packages (from requests->canvasapi) (3.4)\n",
            "Requirement already satisfied: urllib3<3,>=1.21.1 in /usr/local/lib/python3.10/dist-packages (from requests->canvasapi) (2.0.4)\n",
            "Requirement already satisfied: certifi>=2017.4.17 in /usr/local/lib/python3.10/dist-packages (from requests->canvasapi) (2023.7.22)\n",
            "Requirement already satisfied: six>=1.5 in /usr/local/lib/python3.10/dist-packages (from python-dateutil>=2.7.0->arrow->canvasapi) (1.16.0)\n",
            "Building wheels for collected packages: canvasapi\n",
            "  Building wheel for canvasapi (setup.py) ... \u001b[?25l\u001b[?25hdone\n",
            "  Created wheel for canvasapi: filename=canvasapi-3.2.0-py3-none-any.whl size=113293 sha256=a1a9a102f6a706e2a1d6e7b33072fd8263d9a7d04e0523613958198f03ef8f08\n",
            "  Stored in directory: /root/.cache/pip/wheels/a7/34/d2/a22bfe4552157389421694718e36b676045006d5141fa49c4d\n",
            "Successfully built canvasapi\n",
            "Installing collected packages: arrow, canvasapi\n",
            "Successfully installed arrow-1.2.3 canvasapi-3.2.0\n"
          ]
        }
      ]
    },
    {
      "cell_type": "markdown",
      "source": [
        "Add Method for different grade styles. Set different due dates for different classes\n",
        "Make sure that jonathon has an idea of how th app would turn out. User boxes and slides to show the layout. Make it more user oriented"
      ],
      "metadata": {
        "id": "Zz5bBfn-fg2L"
      }
    },
    {
      "cell_type": "code",
      "source": [
        "from datetime import datetime\n"
      ],
      "metadata": {
        "id": "Hnv3RjlHCovd"
      },
      "execution_count": 5,
      "outputs": []
    },
    {
      "cell_type": "code",
      "source": [
        "\n",
        "import requests\n",
        "\n",
        "# Replace YOUR_API_KEY and YOUR_CANVAS_URL\n",
        "api_key = '6936~lmiEmoqxdwHzIgXxZgS1boDoCk4ZDJhchviPlzQeVlcKvtKacPSp8gIw5uT7sHpa'\n",
        "canvas_url = 'https://k12.instructure.com'\n",
        "\n",
        "headers = {\n",
        "  'Authorization': f'Bearer {api_key}'\n",
        "}\n",
        "\n",
        "def get_all_courses():\n",
        "    response = requests.get(f'{canvas_url}/api/v1/courses?enrollment_type=teacher', headers=headers)\n",
        "    if response.status_code == 200:\n",
        "        return response.json()\n",
        "    else:\n",
        "        print('Failed to get courses:', response.status_code, response.text)\n",
        "        return []\n",
        "\n",
        "def create_assignment_in_course(course_id, assignment_info):\n",
        "    response = requests.post(f'{canvas_url}/api/v1/courses/{course_id}/assignments', headers=headers, data=assignment_info)\n",
        "    if response.status_code == 201:\n",
        "        print(f'Successfully created assignment in course {course_id}')\n",
        "    else:\n",
        "      print(f'Failed to create assignment in course {course_id}:', response.status_code, response.text)\n",
        "\n",
        "\n",
        "# Get course list\n",
        "courses = get_all_courses()\n",
        "\n",
        "# Display courses and ask user to pick\n",
        "print(\"Available courses:\")\n",
        "for index, course in enumerate(courses):\n",
        "    print(f\"{index+1}. {course['name']} (ID: {course['id']})\")\n",
        "\n",
        "selected_indexes = input(\"Enter the numbers of the courses you want to send the assignment to, separated by commas: \")\n",
        "selected_indexes = list(map(int, selected_indexes.split(',')))\n",
        "\n",
        "# Validate the entered indexes\n",
        "valid_indexes = range(1, len(courses) + 1)\n",
        "selected_indexes = [index for index in selected_indexes if index in valid_indexes]\n",
        "\n",
        "if not selected_indexes:\n",
        "    print(\"No valid course numbers were selected.\")\n",
        "    exit()\n",
        "\n",
        "# Get assignment details from the user\n",
        "assignment_name = input(\"Enter the name of the assignment: \")\n",
        "assignment_description = input(\"Enter the description of the assignment: \")\n",
        "input_date = input(\"Enter the due date for the assignment (format YYYY-MM-DD): \")\n",
        "formatted_date = datetime.strptime(input_date, \"%Y-%m-%d\").strftime(\"%Y-%m-%dT23:59:00Z\")\n",
        "\n",
        "# NEW SECTION: Prompt for grading type\n",
        "print(\"Choose the grading type for the assignment:\")\n",
        "print(\"1. Points\")\n",
        "print(\"2. Complete/Incomplete\")\n",
        "print(\"3. Not Graded\")\n",
        "grading_choice = int(input(\"Enter the number for the desired grading type: \"))\n",
        "if grading_choice == 1:\n",
        "    grading_type = 'points'\n",
        "    points_possible = input(\"Enter the total points for the assignment: \")\n",
        "elif grading_choice == 2:\n",
        "    grading_type = 'complete/incomplete'\n",
        "    points_possible = '0'  # No points needed for Complete/Incomplete\n",
        "elif grading_choice == 3:\n",
        "    grading_type = 'not_graded'\n",
        "    points_possible = '0'  # No points needed for Not Graded\n",
        "else:\n",
        "    print(\"Invalid grading type selected.\")\n",
        "    exit()\n",
        "\n",
        "assignment_info = {\n",
        "  'assignment[name]': assignment_name,\n",
        "  'assignment[description]': assignment_description,\n",
        "  'assignment[points_possible]': points_possible,\n",
        "  'assignment[grading_type]': grading_type,\n",
        "  'assignment[due_at]': formatted_date\n",
        "}\n",
        "\n",
        "submit_choice = input(\"Do you want to allow submissions for this assignment? (yes/no): \").lower()\n",
        "\n",
        "if submit_choice == 'yes':\n",
        "    submission_content = input(\"Enter the content you want to submit (e.g., a URL, text, etc.): \")\n",
        "    assignment_info['assignment[submission_types]'] = ['online_url']  # This allows online URL submission types\n",
        "    assignment_info['assignment[allowed_extensions]'] = ['html']  # Allow URLs for submission\n",
        "else:\n",
        "    assignment_info['assignment[submission_types]'] = ['none']  # This means no submission is expected for the assignment\n",
        "\n",
        "\n",
        "\n",
        "# Create assignment in selected courses\n",
        "for index in selected_indexes:\n",
        "    try:\n",
        "        course_id = courses[index-1]['id']\n",
        "        create_assignment_in_course(course_id, assignment_info)\n",
        "    except IndexError:\n",
        "        print(f\"Course number {index} is not valid.\")\n"
      ],
      "metadata": {
        "colab": {
          "base_uri": "https://localhost:8080/"
        },
        "id": "JXWdknVxwEgU",
        "outputId": "8a418551-1deb-4c4a-f467-d6160b7c9fdf"
      },
      "execution_count": null,
      "outputs": [
        {
          "output_type": "stream",
          "name": "stdout",
          "text": [
            "Available courses:\n",
            "1. Test - Govind (ID: 1280251)\n",
            "2. Your Guided Course Template (ID: 1274845)\n",
            "Enter the numbers of the courses you want to send the assignment to, separated by commas: 1\n",
            "Enter the name of the assignment: 1\n",
            "Enter the description of the assignment: 1\n",
            "Enter the total points for the assignment: 1\n",
            "Enter the due date for the assignment (format YYYY-MM-DD): 1\n",
            "Enter the content you want to submit (e.g., a URL, text, etc.): \n",
            "Failed to create assignment in course 1280251: 400 {\"errors\":{\"assignment[due_at]\":[{\"attribute\":\"assignment[due_at]\",\"type\":\"Invalid datetime for due_at\",\"message\":\"Invalid datetime for due_at\"}]}}\n"
          ]
        }
      ]
    }
  ]
}